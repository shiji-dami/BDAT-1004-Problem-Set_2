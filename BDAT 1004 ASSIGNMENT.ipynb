{
 "cells": [
  {
   "cell_type": "markdown",
   "id": "90dd72d6",
   "metadata": {},
   "source": [
    "#### Question 1\n",
    "\n",
    "Consider the following Python module: <br>\n",
    "a = 0 def b(): <br>\n",
    "global a <br>\n",
    "a = c(a) <br>\n",
    "\n",
    "def c(a): <br>\n",
    "return a + 2 <br>\n",
    "\n",
    "After importing the module into the interpreter, you execute: <br>\n",
    "\n",
    "b() <br>\n",
    "b() <br>\n",
    "b() <br>\n",
    "a ? <br>\n",
    "\n",
    "What value is displayed when the last expression (a) is evaluated? Explain your <br> answer by indicating what happens in every executed statement. "
   ]
  },
  {
   "cell_type": "code",
   "execution_count": 1,
   "id": "f51d76e9",
   "metadata": {},
   "outputs": [
    {
     "name": "stdout",
     "output_type": "stream",
     "text": [
      "Overwriting module_1.py\n"
     ]
    }
   ],
   "source": [
    "%%writefile module_1.py\n",
    "\n",
    "a = 0\n",
    "\n",
    "def b():\n",
    "    global a\n",
    "    a = c(a)\n",
    "\n",
    "def c(a):\n",
    "    return a + 2\n"
   ]
  },
  {
   "cell_type": "code",
   "execution_count": 2,
   "id": "970d72d2",
   "metadata": {},
   "outputs": [
    {
     "data": {
      "text/plain": [
       "6"
      ]
     },
     "execution_count": 2,
     "metadata": {},
     "output_type": "execute_result"
    }
   ],
   "source": [
    "import module_1\n",
    "\n",
    "module_1.b()\n",
    "module_1.b()\n",
    "module_1.b()\n",
    "\n",
    "module_1.a"
   ]
  },
  {
   "cell_type": "markdown",
   "id": "3620fd54",
   "metadata": {},
   "source": [
    "#### Question 2\n",
    "\n",
    "Function fileLength(), given to you, takes the name of a file as input and returns the length of the file: <br>\n",
    "\n",
    "fileLength('midterm.py') <br> 284 <br>\n",
    "fileLength('idterm.py')  <br> Traceback (most recent call last): <br>\n",
    "File \"<pyshell#34>\", line 1, in <module> <br> fileLength('idterm.py') <br>\n",
    "File \"/Users/me/midterm.py\", line 3, in fileLength <br> infile = open(filename) <br>\n",
    "FileNotFoundError: [Errno 2] No such file or directory: <br> 'idterm.py' <br>\n",
    "\n",
    "As shown above, if the file cannot be found by the interpreter or if it cannot be read as a text file, an exception will be raised. Modify function fileLength() so that a friendly message is printed instead: <br>\n",
    "\n",
    "fileLength('midterm.py') <br> 358 <br>\n",
    "fileLength('idterm.py') <br> File idterm.py not found."
   ]
  },
  {
   "cell_type": "code",
   "execution_count": 3,
   "id": "609e8e4c",
   "metadata": {},
   "outputs": [
    {
     "name": "stdout",
     "output_type": "stream",
     "text": [
      "File midterm.py not found.\n",
      "None\n",
      "File idterm.py not found.\n",
      "None\n"
     ]
    }
   ],
   "source": [
    "def fileLength(filename):\n",
    "  try:\n",
    "    infile = open(filename) # try to open the file\n",
    "    content = infile.read() # read the content as a string\n",
    "    infile.close() # close the file\n",
    "    return len(content) # return the length of the string\n",
    "  except FileNotFoundError: # if the file is not found\n",
    "    print(f\"File {filename} not found.\") # print a friendly message\n",
    "\n",
    "# test cases\n",
    "print(fileLength('midterm.py'))\n",
    "print(fileLength('idterm.py'))\n"
   ]
  },
  {
   "cell_type": "markdown",
   "id": "bd6e032a",
   "metadata": {},
   "source": [
    "#### Question 3\n",
    "Write a class named Marsupial that can be used as shown below:\n",
    "\n",
    "m = Marsupial()<br>\n",
    "m.put_in_pouch('doll')<br>\n",
    "m.put_in_pouch('firetruck')<br>\n",
    "m.put_in_pouch('kitten')<br>\n",
    "m.pouch_contents() ['doll', 'firetruck', 'kitten']<br>\n",
    "\n",
    "Now write a class named Kangaroo as a subclass of Marsupial that inherits all the attributes of Marsupial and also:<br>\n",
    "a. extends the Marsupial  init constructor to take, as input, the\n",
    "coordinates x and y of the Kangaroo object,<br>\n",
    "b. supports method jump that takes number values dx and dy as input and moves the kangaroo by dx units along the x-axis and by dy units along the y- axis, and<br>\n",
    "c.overloads the\tstr operator so it behaves as shown below.<br>\n",
    "\n",
    "k = Kangaroo(0,0)<br>\n",
    "print(k)<br>\n",
    "I am a Kangaroo located at coordinates (0,0)<br>\n",
    "k.put_in_pouch('doll')<br>\n",
    "k.put_in_pouch('firetruck')<br>\n",
    "k.put_in_pouch('kitten')<br>\n",
    "k.pouch_contents() ['doll', 'firetruck', 'kitten']<br>\n",
    "k.jump(1,0)<br>\n",
    "k.jump(1,0)<br>\n",
    "k.jump(1,0)<br>\n",
    "print(k)<br>\n",
    "I am a Kangaroo located at coordinates (3,0)<br>"
   ]
  },
  {
   "cell_type": "code",
   "execution_count": 4,
   "id": "8e66d82e",
   "metadata": {},
   "outputs": [],
   "source": [
    "class Marsupial:\n",
    "  def __init__(self):\n",
    "    self.pouch = [] # initialize an empty pouch\n",
    "\n",
    "  def put_in_pouch(self, item):\n",
    "    self.pouch.append(item) # add the item to the pouch\n",
    "\n",
    "  def pouch_contents(self):\n",
    "    return self.pouch # return the pouch contents\n",
    "\n",
    "class Kangaroo(Marsupial): # inherit from Marsupial\n",
    "  def __init__(self, x, y):\n",
    "    super().__init__() # call the parent constructor\n",
    "    self.x = x # set the x coordinate\n",
    "    self.y = y # set the y coordinate\n",
    "\n",
    "  def jump(self, dx, dy):\n",
    "    self.x += dx # update the x coordinate by dx\n",
    "    self.y += dy # update the y coordinate by dy\n",
    "\n",
    "  def __str__(self):\n",
    "    return f\"I am a Kangaroo located at coordinates ({self.x},{self.y})\" # return a string representation\n"
   ]
  },
  {
   "cell_type": "code",
   "execution_count": 5,
   "id": "586f4d19",
   "metadata": {},
   "outputs": [
    {
     "name": "stdout",
     "output_type": "stream",
     "text": [
      "['doll', 'firetruck', 'kitten']\n",
      "I am a Kangaroo located at coordinates (0,0)\n",
      "['doll', 'firetruck', 'kitten']\n",
      "I am a Kangaroo located at coordinates (3,0)\n"
     ]
    }
   ],
   "source": [
    "# Test the classes\n",
    "m = Marsupial()\n",
    "m.put_in_pouch('doll')\n",
    "m.put_in_pouch('firetruck')\n",
    "m.put_in_pouch('kitten')\n",
    "print(m.pouch_contents())\n",
    "\n",
    "k = Kangaroo(0, 0)\n",
    "print(k)\n",
    "k.put_in_pouch('doll')\n",
    "k.put_in_pouch('firetruck')\n",
    "k.put_in_pouch('kitten')\n",
    "print(k.pouch_contents())\n",
    "\n",
    "k.jump(1, 0)\n",
    "k.jump(1, 0)\n",
    "k.jump(1, 0)\n",
    "print(k)"
   ]
  },
  {
   "cell_type": "markdown",
   "id": "3a714982",
   "metadata": {},
   "source": [
    "#### Question 4\n",
    "Write function collatz() that takes a positive integer x as input and prints the Collatz sequence starting at x. A Collatz sequence is obtained by repeatedly applying this rule to the previous number x in the sequence:<br>\n",
    "\n",
    "x = { 𝑥/2\t𝑖𝑓 𝑥 𝑖𝑠 𝑒𝑣𝑒𝑛 \n",
    "    3𝑥 + 1\t 𝑖𝑓 𝑥 𝑖𝑠 𝑜𝑑𝑑\n",
    "\n",
    "Your function should stop when the sequence gets to number 1. Your <br> implementation must be recursive, without any loops. <br>\n",
    "\n",
    "collatz(1)<br>\n",
    "1 <br>\n",
    "collatz(10) <br>\n",
    "10 <br>\n",
    "5 <br>\n",
    "16 <br>\n",
    "8<br>4<br>2<br>1 <br>"
   ]
  },
  {
   "cell_type": "code",
   "execution_count": 6,
   "id": "b1d9bdf8",
   "metadata": {},
   "outputs": [
    {
     "name": "stdout",
     "output_type": "stream",
     "text": [
      "1\n",
      "10\n",
      "5\n",
      "16\n",
      "8\n",
      "4\n",
      "2\n",
      "1\n"
     ]
    }
   ],
   "source": [
    "def collatz(x):\n",
    "    print(x)\n",
    "    if x == 1:  # Base case: Stop when x reaches 1\n",
    "        return\n",
    "    elif x % 2 == 0:  # If x is even\n",
    "        collatz(x // 2)\n",
    "    else:  # If x is odd\n",
    "        collatz(3 * x + 1)\n",
    "\n",
    "# Test the function\n",
    "collatz(1)\n",
    "collatz(10)\n"
   ]
  },
  {
   "cell_type": "markdown",
   "id": "c9aaaa93",
   "metadata": {},
   "source": [
    "#### Question 5\n",
    "Write a recursive method binary() that takes a non-negative integer n and prints the binary representation of integer n. <br>\n",
    "\n",
    "binary(0) 0  <br>\n",
    "binary(1) 1  <br>\n",
    "binary(3) 11  <br>\n",
    "binary(9) 1001  <br>"
   ]
  },
  {
   "cell_type": "code",
   "execution_count": 7,
   "id": "8090d5e8",
   "metadata": {},
   "outputs": [],
   "source": [
    "def binary(n):\n",
    "    if n > 1:\n",
    "        binary(n // 2)\n",
    "    print(n % 2, end='')"
   ]
  },
  {
   "cell_type": "code",
   "execution_count": 8,
   "id": "8b759def",
   "metadata": {},
   "outputs": [
    {
     "name": "stdout",
     "output_type": "stream",
     "text": [
      "0\n",
      "1\n",
      "11\n",
      "1001\n"
     ]
    }
   ],
   "source": [
    "binary(0)\n",
    "print()  # Newline for clarity\n",
    "\n",
    "binary(1)\n",
    "print()\n",
    "\n",
    "binary(3)\n",
    "print()\n",
    "\n",
    "binary(9)\n",
    "print()"
   ]
  },
  {
   "cell_type": "markdown",
   "id": "fb6a7c7c",
   "metadata": {},
   "source": [
    "#### Question 6\n",
    "\n",
    "Implement a class named HeadingParser that can be used to parse an HTML document, and retrieve and print all the headings in the document. You should implement your class as a subclass of HTMLParser, defined in Standard Library module html.parser. When fed a string containing HTML code, your class should print the headings, one per line and in the order in which they appear in the document. Each heading should be indented as follows: <br>an h1 heading should have\n",
    "indentation 0, and <br> h2 heading should have indentation 1, etc. Test your implementation using w3c.html.<br>\n",
    "\n",
    "infile = open('w3c.html') <br>\n",
    "content = infile.read() <br>\n",
    "infile.close() <br>\n",
    "hp = HeadingParser() <br>\n",
    "hp.feed(content)<br> W3C Mission <br>Principles "
   ]
  },
  {
   "cell_type": "code",
   "execution_count": 9,
   "id": "fcb7253d",
   "metadata": {},
   "outputs": [
    {
     "name": "stdout",
     "output_type": "stream",
     "text": [
      "W3C Mission\n",
      " Principles\n"
     ]
    }
   ],
   "source": [
    "from html.parser import HTMLParser\n",
    "\n",
    "class HeadingParser(HTMLParser):\n",
    "    def __init__(self):\n",
    "        super().__init__()\n",
    "        self.indentation = 0\n",
    "        self.is_heading = False\n",
    "\n",
    "    def handle_starttag(self, tag, attrs):\n",
    "        if tag.startswith('h') and tag[1:].isdigit():\n",
    "            self.indentation = int(tag[1:]) - 1\n",
    "            self.is_heading = True\n",
    "\n",
    "    def handle_endtag(self, tag):\n",
    "        if tag.startswith('h') and tag[1:].isdigit():\n",
    "            self.is_heading = False\n",
    "\n",
    "    def handle_data(self, data):\n",
    "        if self.is_heading:\n",
    "            print(' ' * self.indentation + data)\n",
    "\n",
    "# Read the HTML content from the file\n",
    "with open('w3c.html') as infile:\n",
    "    content = infile.read()\n",
    "\n",
    "# Parse the HTML content using the HeadingParser\n",
    "hp = HeadingParser()\n",
    "hp.feed(content)\n",
    "\n"
   ]
  },
  {
   "cell_type": "markdown",
   "id": "ff3eaf05",
   "metadata": {},
   "source": [
    "#### Question 7\n",
    "\n",
    "Implement recursive function webdir() that takes as input: a URL (as a string) and non-negative integers depth and indent. Your function should visit every web page reachable from the starting URL web page in depth clicks or less, and print each web page's URL. As shown below, indentation, specified by indent, should be used to indicate the depth of a URL. <br>\n",
    "\n",
    "\n",
    "webdir('http://reed.cs.depaul.edu/lperkovic/csc242/test1.html'\n",
    ", 2, 0) <br>\n",
    "http://reed.cs.depaul.edu/lperkovic/csc242/test1.html <br> http://reed.cs.depaul.edu/lperkovic/csc242/test2.html <br>\n",
    "http://reed.cs.depaul.edu/lperkovic/csc242/test4.html <br> http://reed.cs.depaul.edu/lperkovic/csc242/test3.html <br> \n",
    "http://reed.cs.depaul.edu/lperkovic/csc242/test4.html <br>"
   ]
  },
  {
   "cell_type": "code",
   "execution_count": 10,
   "id": "5a367c17",
   "metadata": {},
   "outputs": [],
   "source": [
    "import re\n",
    "import requests\n",
    "\n",
    "def webdir(url, depth, indent):\n",
    "    if depth < 0:\n",
    "        return\n",
    "\n",
    "    # Fetch the web page content\n",
    "    response = requests.get(url)\n",
    "    page_content = response.text\n",
    "\n",
    "    # Print the current web page URL with proper indentation\n",
    "    print(' ' * indent + url)\n",
    "\n",
    "    if depth == 0:\n",
    "        return\n",
    "\n",
    "    # Find all anchor tags and extract URLs using regular expressions\n",
    "    pattern = r'<a\\s+(?:[^>]*?\\s+)?href=\"([^\"]*)\"'\n",
    "    urls = re.findall(pattern, page_content)\n",
    "    for found_url in urls:\n",
    "        if found_url.startswith('http'):\n",
    "            webdir(found_url, depth - 1, indent + 4)"
   ]
  },
  {
   "cell_type": "code",
   "execution_count": 11,
   "id": "49c39617",
   "metadata": {},
   "outputs": [
    {
     "name": "stdout",
     "output_type": "stream",
     "text": [
      "http://reed.cs.depaul.edu/lperkovic/csc242/test1.html\n"
     ]
    }
   ],
   "source": [
    "# Usage example\n",
    "webdir('http://reed.cs.depaul.edu/lperkovic/csc242/test1.html', 2, 0)"
   ]
  },
  {
   "cell_type": "markdown",
   "id": "0b813a2c",
   "metadata": {},
   "source": [
    "#### Question 8\n",
    "Write SQL queries on the below database table that return:<br>\n",
    "a)All the temperature data.<br>\n",
    "b)All the cities, but without repetition.<br>\n",
    "c)All the records for India.<br>\n",
    "d)All the Fall records.<br>\n",
    "e)The city, country, and season for which the average rainfall is between 200 and 400 millimeters.<br>\n",
    "f)The city and country for which the average Fall temperature is above 20 degrees, in increasing temperature order.<br>\n",
    "g)The total annual rainfall for Cairo.<br>\n",
    "h)The total rainfall for each season.<br>\n",
    "| City        | Country      | Season        | Temperature(C)      | Rainfall(mm)        | \n",
    "| --------------- | --------------- | --------------- | --------------- | --------------- | \n",
    "|Mumbai\t|India\t|Winter\t|24.8\t|5.9|\n",
    "|Mumbai\t|India\t|Spring\t|28.4\t|16.2|\n",
    "|Mumbai\t|India\t|Summer\t|27.9\t|1549.4|\n",
    "|Mumbai\t|India\t|Fall\t|27.6\t|346.0|\n",
    "|London\t|United Kingdom\t|Winter\t|4.2\t|207.7|\n",
    "|London\t|United Kingdom\t|Spring\t|8.3\t|169.6|\n",
    "|London\t|United Kingdom\t|Summer\t|15.7\t|157.0|\n",
    "|London\t|United Kingdom\t|Fall\t|10.4\t|218.5|\n",
    "|Cairo\t|Egypt\t|Winter\t|13.6\t|16.5|\n",
    "|Cairo\t|Egypt\t|Spring\t|20.7\t|6.5|\n",
    "|Cairo\t|Egypt\t|Summer\t|27.7\t|0.1|\n",
    "|Cairo\t|Egypt\t|Fall\t|22.2\t|4.5|"
   ]
  },
  {
   "cell_type": "code",
   "execution_count": 12,
   "id": "0419a44c",
   "metadata": {},
   "outputs": [
    {
     "ename": "OperationalError",
     "evalue": "table Weather already exists",
     "output_type": "error",
     "traceback": [
      "\u001b[1;31m---------------------------------------------------------------------------\u001b[0m",
      "\u001b[1;31mOperationalError\u001b[0m                          Traceback (most recent call last)",
      "Cell \u001b[1;32mIn[12], line 10\u001b[0m\n\u001b[0;32m      7\u001b[0m cursor \u001b[38;5;241m=\u001b[39m conn\u001b[38;5;241m.\u001b[39mcursor()\n\u001b[0;32m      9\u001b[0m \u001b[38;5;66;03m# Create the table and insert the data\u001b[39;00m\n\u001b[1;32m---> 10\u001b[0m \u001b[43mcursor\u001b[49m\u001b[38;5;241;43m.\u001b[39;49m\u001b[43mexecute\u001b[49m\u001b[43m(\u001b[49m\u001b[38;5;124;43m'''\u001b[39;49m\u001b[38;5;124;43mCREATE TABLE Weather (\u001b[39;49m\n\u001b[0;32m     11\u001b[0m \u001b[38;5;124;43m                    City TEXT,\u001b[39;49m\n\u001b[0;32m     12\u001b[0m \u001b[38;5;124;43m                    Country TEXT,\u001b[39;49m\n\u001b[0;32m     13\u001b[0m \u001b[38;5;124;43m                    Season TEXT,\u001b[39;49m\n\u001b[0;32m     14\u001b[0m \u001b[38;5;124;43m                    Temperature REAL,\u001b[39;49m\n\u001b[0;32m     15\u001b[0m \u001b[38;5;124;43m                    Rainfall REAL\u001b[39;49m\n\u001b[0;32m     16\u001b[0m \u001b[38;5;124;43m                )\u001b[39;49m\u001b[38;5;124;43m'''\u001b[39;49m\u001b[43m)\u001b[49m\n\u001b[0;32m     17\u001b[0m \u001b[38;5;66;03m# Commit the changes\u001b[39;00m\n\u001b[0;32m     18\u001b[0m conn\u001b[38;5;241m.\u001b[39mcommit()\n",
      "\u001b[1;31mOperationalError\u001b[0m: table Weather already exists"
     ]
    }
   ],
   "source": [
    "import sqlite3\n",
    "\n",
    "# Create a connection to the database\n",
    "conn = sqlite3.connect('Weather.db')  # Use in-memory database for this example\n",
    "\n",
    "# Create a cursor to interact with the database\n",
    "cursor = conn.cursor()\n",
    "\n",
    "# Create the table and insert the data\n",
    "cursor.execute('''CREATE TABLE Weather (\n",
    "                    City TEXT,\n",
    "                    Country TEXT,\n",
    "                    Season TEXT,\n",
    "                    Temperature REAL,\n",
    "                    Rainfall REAL\n",
    "                )''')\n",
    "# Commit the changes\n",
    "conn.commit()\n",
    "\n",
    "# Close the connection\n",
    "conn.close()"
   ]
  },
  {
   "cell_type": "code",
   "execution_count": 13,
   "id": "498e8cee",
   "metadata": {},
   "outputs": [],
   "source": [
    "import sqlite3\n",
    "\n",
    "# Connect to the database\n",
    "conn = sqlite3.connect('Weather.db')\n",
    "\n",
    "# Create a cursor object\n",
    "cursor = conn.cursor()\n",
    "\n",
    "# Insert multiple rows of data\n",
    "sql = \"INSERT INTO Weather(City, Country, Season, Temperature, Rainfall) VALUES (?, ?, ?, ?, ?)\"\n",
    "data = [\n",
    "    ('Mumbai', 'India', 'Winter', 24.8, 5.9),\n",
    "    ('Mumbai', 'India', 'Spring', 28.4, 16.2),\n",
    "    ('Mumbai', 'India', 'Summer', 27.9, 1549.4),\n",
    "    ('Mumbai', 'India', 'Fall', 27.6, 346.0),\n",
    "    ('London', 'United Kingdom', 'Winter', 4.2, 207.7),\n",
    "    ('London', 'United Kingdom', 'Spring', 8.3, 169.6),\n",
    "    ('London', 'United Kingdom', 'Summer', 15.7, 157.0),\n",
    "    ('London', 'United Kingdom', 'Fall', 10.4, 218.5),\n",
    "    ('Cairo', 'Egypt', 'Winter', 13.6, 16.5),\n",
    "    ('Cairo', 'Egypt', 'Spring', 20.7, 6.5),\n",
    "    ('Cairo', 'Egypt', 'Summer', 27.7, 0.1),\n",
    "    ('Cairo', 'Egypt', 'Fall', 22.2, 4.5)\n",
    "]\n",
    "\n",
    "cursor.executemany(sql, data)\n",
    "\n",
    "# Commit the changes\n",
    "conn.commit()\n",
    "\n",
    "# Close the connection\n",
    "conn.close()"
   ]
  },
  {
   "cell_type": "code",
   "execution_count": 14,
   "id": "79a63354",
   "metadata": {},
   "outputs": [],
   "source": [
    "# Execute the SQL queries\n",
    "import sqlite3\n",
    "\n",
    "# Connect to the database\n",
    "conn = sqlite3.connect('Weather.db')\n",
    "\n",
    "# Create a cursor object\n",
    "cursor = conn.cursor()\n",
    "cursor.execute('SELECT Temperature FROM Weather')\n",
    "temperature_data = cursor.fetchall()\n",
    "\n",
    "cursor.execute('SELECT DISTINCT City FROM Weather')\n",
    "cities = cursor.fetchall()\n",
    "\n",
    "cursor.execute('SELECT * FROM Weather WHERE Country = \"India\"')\n",
    "india_records = cursor.fetchall()\n",
    "\n",
    "cursor.execute('SELECT * FROM Weather WHERE Season = \"Fall\"')\n",
    "fall_records = cursor.fetchall()\n",
    "\n",
    "cursor.execute('SELECT City, Country, Season FROM Weather WHERE Rainfall BETWEEN 200 AND 400')\n",
    "average_rainfall_records = cursor.fetchall()\n",
    "\n",
    "cursor.execute('SELECT City, Country FROM Weather WHERE Season = \"Fall\" AND Temperature > 20 ORDER BY Temperature ASC')\n",
    "temperature_sorted_records = cursor.fetchall()\n",
    "\n",
    "cursor.execute('SELECT SUM(Rainfall) FROM Weather WHERE City = \"Cairo\"')\n",
    "cairo_total_rainfall = cursor.fetchone()[0]\n",
    "\n",
    "cursor.execute('SELECT Season, SUM(Rainfall) FROM Weather GROUP BY Season')\n",
    "seasonal_rainfall = cursor.fetchall()\n",
    "\n",
    "# Close the cursor\n",
    "cursor.close()\n",
    "\n",
    "# Close the connection\n",
    "conn.close()"
   ]
  },
  {
   "cell_type": "code",
   "execution_count": 15,
   "id": "9d009d6b",
   "metadata": {},
   "outputs": [
    {
     "name": "stdout",
     "output_type": "stream",
     "text": [
      "(24.8,)\n",
      "(28.4,)\n",
      "(27.9,)\n",
      "(27.6,)\n",
      "(4.2,)\n",
      "(8.3,)\n",
      "(15.7,)\n",
      "(10.4,)\n",
      "(13.6,)\n",
      "(20.7,)\n",
      "(27.7,)\n",
      "(22.2,)\n",
      "(24.8,)\n",
      "(28.4,)\n",
      "(27.9,)\n",
      "(27.6,)\n",
      "(4.2,)\n",
      "(8.3,)\n",
      "(15.7,)\n",
      "(10.4,)\n",
      "(13.6,)\n",
      "(20.7,)\n",
      "(27.7,)\n",
      "(22.2,)\n"
     ]
    }
   ],
   "source": [
    "for rows in temperature_data:\n",
    "    print(rows)"
   ]
  },
  {
   "cell_type": "code",
   "execution_count": 16,
   "id": "1bb81752",
   "metadata": {},
   "outputs": [
    {
     "name": "stdout",
     "output_type": "stream",
     "text": [
      "('Mumbai',)\n",
      "('London',)\n",
      "('Cairo',)\n"
     ]
    }
   ],
   "source": [
    "for rows in cities:\n",
    "    print(rows)"
   ]
  },
  {
   "cell_type": "code",
   "execution_count": 17,
   "id": "7476a782",
   "metadata": {},
   "outputs": [
    {
     "name": "stdout",
     "output_type": "stream",
     "text": [
      "('Mumbai', 'India', 'Winter', 24.8, 5.9)\n",
      "('Mumbai', 'India', 'Spring', 28.4, 16.2)\n",
      "('Mumbai', 'India', 'Summer', 27.9, 1549.4)\n",
      "('Mumbai', 'India', 'Fall', 27.6, 346.0)\n",
      "('Mumbai', 'India', 'Winter', 24.8, 5.9)\n",
      "('Mumbai', 'India', 'Spring', 28.4, 16.2)\n",
      "('Mumbai', 'India', 'Summer', 27.9, 1549.4)\n",
      "('Mumbai', 'India', 'Fall', 27.6, 346.0)\n"
     ]
    }
   ],
   "source": [
    "for rows in india_records:\n",
    "    print(rows)"
   ]
  },
  {
   "cell_type": "code",
   "execution_count": 18,
   "id": "93d91c6d",
   "metadata": {},
   "outputs": [
    {
     "name": "stdout",
     "output_type": "stream",
     "text": [
      "('Mumbai', 'India', 'Fall', 27.6, 346.0)\n",
      "('London', 'United Kingdom', 'Fall', 10.4, 218.5)\n",
      "('Cairo', 'Egypt', 'Fall', 22.2, 4.5)\n",
      "('Mumbai', 'India', 'Fall', 27.6, 346.0)\n",
      "('London', 'United Kingdom', 'Fall', 10.4, 218.5)\n",
      "('Cairo', 'Egypt', 'Fall', 22.2, 4.5)\n"
     ]
    }
   ],
   "source": [
    "for rows in fall_records:\n",
    "    print(rows)"
   ]
  },
  {
   "cell_type": "code",
   "execution_count": 19,
   "id": "4f31a9a4",
   "metadata": {},
   "outputs": [
    {
     "name": "stdout",
     "output_type": "stream",
     "text": [
      "\n",
      "The city, country, and season for which the average rainfall is between 200 and 400 millimeters:\n",
      "[('Mumbai', 'India', 'Fall'), ('London', 'United Kingdom', 'Winter'), ('London', 'United Kingdom', 'Fall'), ('Mumbai', 'India', 'Fall'), ('London', 'United Kingdom', 'Winter'), ('London', 'United Kingdom', 'Fall')]\n"
     ]
    }
   ],
   "source": [
    "print(\"\\nThe city, country, and season for which the average rainfall is between 200 and 400 millimeters:\")\n",
    "print(average_rainfall_records)"
   ]
  },
  {
   "cell_type": "code",
   "execution_count": 20,
   "id": "6613dcc6",
   "metadata": {},
   "outputs": [
    {
     "name": "stdout",
     "output_type": "stream",
     "text": [
      "\n",
      "The city and country for which the average Fall temperature is above 20 degrees, in increasing temperature order:\n",
      "[('Cairo', 'Egypt'), ('Cairo', 'Egypt'), ('Mumbai', 'India'), ('Mumbai', 'India')]\n"
     ]
    }
   ],
   "source": [
    "print(\"\\nThe city and country for which the average Fall temperature is above 20 degrees, in increasing temperature order:\")\n",
    "print(temperature_sorted_records)"
   ]
  },
  {
   "cell_type": "code",
   "execution_count": 21,
   "id": "b3de3b71",
   "metadata": {},
   "outputs": [
    {
     "name": "stdout",
     "output_type": "stream",
     "text": [
      "\n",
      "The total annual rainfall for Cairo:\n",
      "55.2\n"
     ]
    }
   ],
   "source": [
    "print(\"\\nThe total annual rainfall for Cairo:\")\n",
    "print(cairo_total_rainfall)"
   ]
  },
  {
   "cell_type": "code",
   "execution_count": 22,
   "id": "ff3d06b6",
   "metadata": {},
   "outputs": [
    {
     "name": "stdout",
     "output_type": "stream",
     "text": [
      "('Fall', 1138.0)\n",
      "('Spring', 384.59999999999997)\n",
      "('Summer', 3413.0)\n",
      "('Winter', 460.2)\n"
     ]
    }
   ],
   "source": [
    "for rows in seasonal_rainfall:\n",
    "    print(rows)"
   ]
  },
  {
   "cell_type": "markdown",
   "id": "c5fca6de",
   "metadata": {},
   "source": [
    "#### Question 9\n",
    "Suppose list words is defined as follows: <br>\n",
    "words = ['The', 'quick', 'brown', 'fox', 'jumps', 'over', 'the', 'lazy', 'dog']  <br>\n",
    "Write list comprehension expressions that use list words and generate the following lists:  <br>\n",
    "\n",
    "- ['THE', 'QUICK', 'BROWN', 'FOX', 'JUMPS', 'OVER', 'THE', 'LAZY', 'DOG']  <br>\n",
    "\n",
    "- ['the', 'quick', 'brown', 'fox', 'jumps', 'over', 'the', 'lazy', 'dog']  <br>\n",
    "\n",
    "- [3, 5, 5, 3, 5, 4, 3, 4, 3] (the list of lengths of words in list\n",
    "words).  <br>\n",
    "\n",
    "- [['THE', 'the', 3], ['QUICK', 'quick', 5], ['BROWN',\n",
    "'brown', 5], ['FOX', 'fox', 3], ['JUMPS', 'jumps', 5],\n",
    "['OVER', 'over', 4], ['THE', 'the', 3], ['LAZY', 'lazy',\n",
    "4], ['DOG', 'dog', 3]]  <br> \n",
    "\n",
    "(the list containing a list for every word of list words, where each list contains the word in uppercase and lowercase and the length of the word.) \n",
    "<br>\n",
    "\n",
    "- ['The', 'quick', 'brown', 'fox', 'jumps', 'over', 'the', 'lazy', 'dog'] (the list of words in list words containing 4 or more characters.)"
   ]
  },
  {
   "cell_type": "code",
   "execution_count": 23,
   "id": "b9eb3a3b",
   "metadata": {},
   "outputs": [],
   "source": [
    "def sentence(words):\n",
    "    word_upper = [word.upper() for word in words]\n",
    "    word_lower = [word.lower() for word in words]\n",
    "    word_lengths = [len(word) for word in words]\n",
    "    word_details = [[word.upper(), word.lower(), len(word)] for word in words]\n",
    "    word_long = [word for word in words if len(word) >= 4]\n",
    "    \n",
    "    return word_upper, word_lower, word_lengths, word_details, word_long\n"
   ]
  },
  {
   "cell_type": "code",
   "execution_count": 24,
   "id": "0cb40d8c",
   "metadata": {},
   "outputs": [],
   "source": [
    "words = ['The', 'quick', 'brown', 'fox', 'jumps', 'over', 'the', 'lazy', 'dog']\n",
    "result = sentence(words)\n",
    "\n",
    "word_upper, word_lower, word_lengths, word_details, word_long = result"
   ]
  },
  {
   "cell_type": "code",
   "execution_count": 25,
   "id": "736508b9",
   "metadata": {},
   "outputs": [
    {
     "name": "stdout",
     "output_type": "stream",
     "text": [
      "['THE', 'QUICK', 'BROWN', 'FOX', 'JUMPS', 'OVER', 'THE', 'LAZY', 'DOG']\n"
     ]
    }
   ],
   "source": [
    "print(word_upper)"
   ]
  },
  {
   "cell_type": "code",
   "execution_count": 26,
   "id": "572c63fe",
   "metadata": {},
   "outputs": [
    {
     "name": "stdout",
     "output_type": "stream",
     "text": [
      "['the', 'quick', 'brown', 'fox', 'jumps', 'over', 'the', 'lazy', 'dog']\n"
     ]
    }
   ],
   "source": [
    "print(word_lower)"
   ]
  },
  {
   "cell_type": "code",
   "execution_count": 27,
   "id": "3c5c3304",
   "metadata": {},
   "outputs": [
    {
     "name": "stdout",
     "output_type": "stream",
     "text": [
      "[3, 5, 5, 3, 5, 4, 3, 4, 3]\n"
     ]
    }
   ],
   "source": [
    "print(word_lengths)"
   ]
  },
  {
   "cell_type": "code",
   "execution_count": 28,
   "id": "351210e1",
   "metadata": {},
   "outputs": [
    {
     "name": "stdout",
     "output_type": "stream",
     "text": [
      "[['THE', 'the', 3], ['QUICK', 'quick', 5], ['BROWN', 'brown', 5], ['FOX', 'fox', 3], ['JUMPS', 'jumps', 5], ['OVER', 'over', 4], ['THE', 'the', 3], ['LAZY', 'lazy', 4], ['DOG', 'dog', 3]]\n"
     ]
    }
   ],
   "source": [
    "print(word_details)"
   ]
  },
  {
   "cell_type": "code",
   "execution_count": 29,
   "id": "b205af0a",
   "metadata": {},
   "outputs": [
    {
     "name": "stdout",
     "output_type": "stream",
     "text": [
      "['quick', 'brown', 'jumps', 'over', 'lazy']\n"
     ]
    }
   ],
   "source": [
    "print(word_long)"
   ]
  },
  {
   "cell_type": "code",
   "execution_count": null,
   "id": "e86208db",
   "metadata": {},
   "outputs": [],
   "source": []
  }
 ],
 "metadata": {
  "kernelspec": {
   "display_name": "Python 3 (ipykernel)",
   "language": "python",
   "name": "python3"
  },
  "language_info": {
   "codemirror_mode": {
    "name": "ipython",
    "version": 3
   },
   "file_extension": ".py",
   "mimetype": "text/x-python",
   "name": "python",
   "nbconvert_exporter": "python",
   "pygments_lexer": "ipython3",
   "version": "3.10.9"
  }
 },
 "nbformat": 4,
 "nbformat_minor": 5
}
